{
 "cells": [
  {
   "cell_type": "code",
   "execution_count": 1,
   "metadata": {},
   "outputs": [],
   "source": [
    "import numpy as np\n",
    "from scipy.spatial.distance import euclidean as d_eucli\n",
    "import pywt\n",
    "\n",
    "from sklearn.preprocessing import StandardScaler # for standardizing the Data\n",
    "from sklearn.decomposition import PCA # for PCA calculation\n",
    "\n",
    "\n",
    "time_series=np.fromfile(\"seismic_size50k_len256_znorm.bin\", dtype=np.float32).reshape(-1, 256)\n",
    "\n",
    "\n",
    "\n"
   ]
  },
  {
   "cell_type": "code",
   "execution_count": 2,
   "metadata": {},
   "outputs": [],
   "source": [
    "def reconstruction_error(orig, reconstructed):\n",
    "    return d_eucli(orig, reconstructed)\n",
    "\n",
    "def list_reconstruction_error(list_orig, list_reconstruct):\n",
    "    errors = []\n",
    "    for i in range(len(list_orig)):\n",
    "        errors.append(reconstruction_error(list_orig[i], list_reconstruct[i]))\n",
    "    return errors"
   ]
  },
  {
   "cell_type": "markdown",
   "metadata": {},
   "source": [
    "# Wavelets reduction\n",
    "\n",
    "C'est le plus compliqué des trois methodes à comprendre, ça nécessite de la compréhension en traitement de signal, son application par contre est simple, quelque lien de quelques tutos un peu compliqué du coup:\n",
    "http://ataspinar.com/2018/12/21/a-guide-for-using-the-wavelet-transform-in-machine-learning/\n",
    "la partie interessante est la 3.3 sur le tuto"
   ]
  },
  {
   "cell_type": "code",
   "execution_count": 11,
   "metadata": {},
   "outputs": [],
   "source": [
    "\n",
    "\n",
    "def wavelet_reduction(ts, reduction_length=8):\n",
    "        coeffs = pywt.wavedec(ts, 'db1')\n",
    "        coeffs = pywt.coeffs_to_array(coeffs)\n",
    "        return coeffs[0][:reduction_length], coeffs[1]\n",
    "\n",
    "def list_wavelet_reduction(time_series, reduction_length=8):\n",
    "    reduced = []\n",
    "    for ts in time_series:\n",
    "        red , sliced = wavelet_reduction(ts, reduction_length)\n",
    "        reduced.append(red)\n",
    "    \n",
    "    return reduced, sliced\n",
    "    \n",
    "    \n",
    "        \n",
    "def wavelet_reconstruction(reduced_ts, sliced, reduced_length=8, original_length=256):\n",
    "    reduced = np.pad(reduced_ts, (0, int(original_length - reduced_length)),  'constant')\n",
    "    coeffs = pywt.array_to_coeffs(reduced, sliced, output_format='wavedec')\n",
    "    return pywt.waverec(coeffs, 'db1')\n",
    "\n",
    "def list_wavelet_reconstruction(reduced_timeseries, sliced, reduced_length=8, original_length=256):\n",
    "    reconst = []\n",
    "    for ts in reduced_timeseries:\n",
    "        reconst.append(wavelet_reconstruction(ts, sliced, reduced_length, original_length))\n",
    "    return reconst"
   ]
  },
  {
   "cell_type": "code",
   "execution_count": 12,
   "metadata": {},
   "outputs": [
    {
     "name": "stdout",
     "output_type": "stream",
     "text": [
      "average error with 8 point reduction 15.978650000133515\n"
     ]
    }
   ],
   "source": [
    "w_reduced_ts_8b, sliced_8b = list_wavelet_reduction(time_series, reduction_length=8)\n",
    "w_reconstructed_ts_8b = list_wavelet_reconstruction(w_reduced_ts_8b, sliced_8b, reduced_length=8)\n",
    "w_list_error_8b = list_reconstruction_error(time_series, w_reconstructed_ts_8b)\n",
    "print(\"average error with 8 point reduction\", np.average(w_list_error_8b))"
   ]
  },
  {
   "cell_type": "code",
   "execution_count": 13,
   "metadata": {},
   "outputs": [
    {
     "name": "stdout",
     "output_type": "stream",
     "text": [
      "average error with 16 point reduction 15.946925214729308\n"
     ]
    }
   ],
   "source": [
    "w_reduced_ts_16b, sliced_16b = list_wavelet_reduction(time_series, reduction_length=16)\n",
    "w_reconstructed_ts_16b = list_wavelet_reconstruction(w_reduced_ts_16b, sliced_16b, reduced_length=16)\n",
    "w_list_error_16b = list_reconstruction_error(time_series, w_reconstructed_ts_16b)\n",
    "print(\"average error with 16 point reduction\", np.average(w_list_error_16b))"
   ]
  },
  {
   "cell_type": "code",
   "execution_count": 14,
   "metadata": {},
   "outputs": [
    {
     "name": "stdout",
     "output_type": "stream",
     "text": [
      "average error with 32 point reduction 15.8094279406929\n"
     ]
    }
   ],
   "source": [
    "w_reduced_ts_32b, sliced_32b = list_wavelet_reduction(time_series, reduction_length=32)\n",
    "w_reconstructed_ts_32b = list_wavelet_reconstruction(w_reduced_ts_32b, sliced_32b, reduced_length=32)\n",
    "w_list_error_32b = list_reconstruction_error(time_series, w_reconstructed_ts_32b)\n",
    "print(\"average error with 32 point reduction\", np.average(w_list_error_32b))"
   ]
  },
  {
   "cell_type": "markdown",
   "metadata": {},
   "source": [
    "# PCA Reduction:"
   ]
  },
  {
   "cell_type": "code",
   "execution_count": 7,
   "metadata": {},
   "outputs": [],
   "source": [
    "sc = StandardScaler()\n",
    "X_std = sc.fit_transform(time_series)\n"
   ]
  },
  {
   "cell_type": "code",
   "execution_count": 8,
   "metadata": {},
   "outputs": [
    {
     "name": "stdout",
     "output_type": "stream",
     "text": [
      "average reconstruction error PCA from 256 to 8 dimensions :  15.467802508201599\n"
     ]
    }
   ],
   "source": [
    "pca_8b = PCA(n_components=8)\n",
    "X_pca_8b = pca_8b.fit_transform(X_std)\n",
    "reconst_pca_8b = pca_8b.inverse_transform(X_pca_8b)\n",
    "pca_all_reconst_errors_8b = list_reconstruction_error(X_std, reconst_pca_8b)\n",
    "print(\"average reconstruction error PCA from 256 to 8 dimensions : \", np.average(pca_all_reconst_errors_8b))"
   ]
  },
  {
   "cell_type": "code",
   "execution_count": 9,
   "metadata": {},
   "outputs": [
    {
     "name": "stdout",
     "output_type": "stream",
     "text": [
      "average reconstruction error PCA from 256 to 16 dimensions :  14.925177841796875\n"
     ]
    }
   ],
   "source": [
    "pca_16b = PCA(n_components=16)\n",
    "X_pca_16b = pca_16b.fit_transform(X_std)\n",
    "reconst_pca_16b = pca_16b.inverse_transform(X_pca_16b)\n",
    "pca_all_reconst_errors_16b = list_reconstruction_error(X_std, reconst_pca_16b)\n",
    "print(\"average reconstruction error PCA from 256 to 16 dimensions : \", np.average(pca_all_reconst_errors_16b))"
   ]
  },
  {
   "cell_type": "code",
   "execution_count": 10,
   "metadata": {},
   "outputs": [
    {
     "name": "stdout",
     "output_type": "stream",
     "text": [
      "average reconstruction error PCA from 256 to 32 dimensions :  13.836157926387786\n"
     ]
    }
   ],
   "source": [
    "pca_32b = PCA(n_components=32)\n",
    "X_pca_32b = pca_32b.fit_transform(X_std)\n",
    "reconst_pca_32b = pca_32b.inverse_transform(X_pca_32b)\n",
    "pca_all_reconst_errors_32b = list_reconstruction_error(X_std, reconst_pca_32b)\n",
    "print(\"average reconstruction error PCA from 256 to 32 dimensions : \", np.average(pca_all_reconst_errors_32b))"
   ]
  },
  {
   "attachments": {
    "image.png": {
     "image/png": "[encoded data removed]"
    }
   },
   "cell_type": "markdown",
   "metadata": {},
   "source": [
    "# Paa Reduction:\n",
    "Le plus simple à comprendre c'est juste de faire des moyennes de chaque case une à une, y'a une version amelioré de ça qui va un peu plus loin (qui fait des moyennes de moyennes), voila le paper de celui-ci : <\n",
    "https://www.cs.ucr.edu/~eamonn/kais_2000.pdf\n",
    "![image.png](attachment:image.png)"
   ]
  },
  {
   "cell_type": "code",
   "execution_count": 7,
   "metadata": {},
   "outputs": [],
   "source": [
    "def preprocessing_ts_to_paa(time_serie,size_word):\n",
    "\n",
    "    size_letter = int(len(time_serie) / size_word)\n",
    "    step = size_letter\n",
    "    weights = [1.0] * size_letter\n",
    "\n",
    "    modulo = len(time_serie) % size_word\n",
    "    overtaking = 0\n",
    "\n",
    "    if modulo != 0:\n",
    "\n",
    "        size_letter += 1\n",
    "        overtaking = (len(time_serie) % size_word) / len(time_serie)\n",
    "        weights.append(overtaking)\n",
    "\n",
    "    len_time_serie = len(time_serie)\n",
    "    return len_time_serie, modulo, step, weights, overtaking, size_letter\n",
    "\n",
    "def loop_ts_to_paa(time_serie, len_time_serie, modulo, step, weights, overtaking, size_letter):\n",
    "\n",
    "    paa_word = []\n",
    "    for i in range(0, len_time_serie - modulo, step):\n",
    "        start = i\n",
    "        end = i + size_letter\n",
    "        paa_letter = np.average(time_serie[start:end], weights=weights)\n",
    "        paa_word.append(paa_letter)\n",
    "        if overtaking != 0:\n",
    "            weights[0] -= overtaking\n",
    "            weights[-1] += overtaking\n",
    "\n",
    "    return paa_word\n",
    "\n",
    "def ts_to_paa(time_serie,size_word):\n",
    "    len_time_serie, modulo, step, weights, overtaking, size_letter = preprocessing_ts_to_paa(time_serie, size_word)\n",
    "    return loop_ts_to_paa(time_serie, len_time_serie, modulo, step, weights, overtaking, size_letter)\n",
    "\n",
    "def paa_to_ts(paa_time_serie, segment_size):\n",
    "    original_ts = []\n",
    "    for i in paa_time_serie:\n",
    "        for j in range(int(segment_size)):\n",
    "            original_ts.append(i)\n",
    "            \n",
    "    return original_ts\n",
    "\n",
    "def list_paa_to_ts(list_paa_ts, segment_size):\n",
    "    list_ts =[]\n",
    "    for i in range(len(list_paa_ts)):\n",
    "        list_ts.append(paa_to_ts(list_paa_ts[i], segment_size))\n",
    "        \n",
    "    return list_ts\n",
    "\n",
    "def list_ts_to_list_paa(list_time_serie,size_word):\n",
    "    list_paa = []\n",
    "    len_time_serie, modulo, step, weights, overtaking, size_letter = preprocessing_ts_to_paa(list_time_serie[0], size_word)\n",
    "    for i in range(len(list_time_serie)):\n",
    "        list_paa.append( loop_ts_to_paa(list_time_serie[i], len_time_serie, modulo, step, weights, overtaking, size_letter) )\n",
    "    return list_paa\n",
    "\n",
    "\n",
    "def reconstruction_error(orig, reconstructed):\n",
    "    return d_eucli(orig, reconstructed)\n",
    "\n",
    "def list_reconstruction_error(list_orig, list_reconstruct):\n",
    "    errors = []\n",
    "    for i in range(len(list_orig)):\n",
    "        errors.append(reconstruction_error(list_orig[i], list_reconstruct[i]))\n",
    "    return errors"
   ]
  },
  {
   "cell_type": "code",
   "execution_count": 8,
   "metadata": {},
   "outputs": [],
   "source": [
    "time_series_reduced_32b=list_ts_to_list_paa(time_series, size_word=int(256/(1024/32)))\n",
    "time_series_reduced_64b=list_ts_to_list_paa(time_series, size_word=int(256/(1024/64)))\n",
    "time_series_reduced_128b=list_ts_to_list_paa(time_series,size_word=int(256/(1024/128)))"
   ]
  },
  {
   "cell_type": "code",
   "execution_count": 9,
   "metadata": {},
   "outputs": [],
   "source": [
    "time_series_reconst_32b=list_paa_to_ts(time_series_reduced_32b, segment_size=256/len(time_series_reduced_32b[0]))\n",
    "time_series_reconst_64b=list_paa_to_ts(time_series_reduced_64b, segment_size=256/len(time_series_reduced_64b[0]))\n",
    "time_series_reconst_128b=list_paa_to_ts(time_series_reduced_128b, segment_size=256/len(time_series_reduced_128b[0]))"
   ]
  },
  {
   "cell_type": "code",
   "execution_count": 10,
   "metadata": {},
   "outputs": [],
   "source": [
    "all_recont_errors_32b = list_reconstruction_error(time_series, time_series_reconst_32b)\n",
    "all_recont_errors_64b = list_reconstruction_error(time_series, time_series_reconst_64b)\n",
    "all_recont_errors_128b = list_reconstruction_error(time_series, time_series_reconst_128b)"
   ]
  },
  {
   "cell_type": "code",
   "execution_count": 16,
   "metadata": {},
   "outputs": [
    {
     "name": "stdout",
     "output_type": "stream",
     "text": [
      "average reconstruction error PAA from 256 to 8 dimensions :  15.97864999776946\n",
      "average reconstruction error PAA from 256 to 16 dimensions :  15.946925214890312\n",
      "average reconstruction error PAA from 256 to 32 dimensions :  15.809427941404719\n"
     ]
    }
   ],
   "source": [
    "print(\"average reconstruction error PAA from 256 to 8 dimensions : \", np.average(all_recont_errors_32b))\n",
    "print(\"average reconstruction error PAA from 256 to 16 dimensions : \", np.average(all_recont_errors_64b))\n",
    "print(\"average reconstruction error PAA from 256 to 32 dimensions : \", np.average(all_recont_errors_128b))"
   ]
  },
  {
   "cell_type": "code",
   "execution_count": 18,
   "metadata": {},
   "outputs": [],
   "source": []
  },
  {
   "cell_type": "code",
   "execution_count": 19,
   "metadata": {},
   "outputs": [
    {
     "name": "stdout",
     "output_type": "stream",
     "text": [
      "50000\n",
      "50000\n"
     ]
    },
    {
     "data": {
      "text/plain": [
       "'seismic_size50k_len256_znorm.bin_sum128_rec128'"
      ]
     },
     "execution_count": 19,
     "metadata": {},
     "output_type": "execute_result"
    }
   ],
   "source": []
  },
  {
   "cell_type": "code",
   "execution_count": null,
   "metadata": {},
   "outputs": [],
   "source": []
  }
 ],
 "metadata": {
  "kernelspec": {
   "display_name": "Python 3",
   "language": "python",
   "name": "python3"
  },
  "language_info": {
   "codemirror_mode": {
    "name": "ipython",
    "version": 3
   },
   "file_extension": ".py",
   "mimetype": "text/x-python",
   "name": "python",
   "nbconvert_exporter": "python",
   "pygments_lexer": "ipython3",
   "version": "3.7.6"
  }
 },
 "nbformat": 4,
 "nbformat_minor": 4
}
